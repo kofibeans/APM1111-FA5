{
  "nbformat": 4,
  "nbformat_minor": 0,
  "metadata": {
    "colab": {
      "provenance": [],
      "collapsed_sections": [
        "HMMzL9RVcrG8",
        "Gh_RyXfRdlKV"
      ],
      "authorship_tag": "ABX9TyOjpEG1RSTObyof2L0pjoE5",
      "include_colab_link": true
    },
    "kernelspec": {
      "name": "python3",
      "display_name": "Python 3"
    },
    "language_info": {
      "name": "python"
    }
  },
  "cells": [
    {
      "cell_type": "markdown",
      "metadata": {
        "id": "view-in-github",
        "colab_type": "text"
      },
      "source": [
        "<a href=\"https://colab.research.google.com/github/kofibeans/APM1111-FA5/blob/main/APM1111_FA5.ipynb\" target=\"_parent\"><img src=\"https://colab.research.google.com/assets/colab-badge.svg\" alt=\"Open In Colab\"/></a>"
      ]
    },
    {
      "cell_type": "markdown",
      "source": [
        "#**APM1111 - FORMATIVE ASSESSMENT 5**"
      ],
      "metadata": {
        "id": "9r34PavwX9j5"
      }
    },
    {
      "cell_type": "markdown",
      "source": [
        "### **Details**\n",
        "1.   Answer 8.18 using Python or R.\n",
        "2.   Answer 8.21, 8.34\n",
        "3.   Answer 8.49"
      ],
      "metadata": {
        "id": "inwIlLShYDsJ"
      }
    },
    {
      "cell_type": "markdown",
      "source": [
        "### **Import modules**\n",
        "Run the following code cell to import modules."
      ],
      "metadata": {
        "id": "98o9WomMYkB7"
      }
    },
    {
      "cell_type": "code",
      "metadata": {
        "id": "ZmL0l551Iibq"
      },
      "source": [
        "import numpy as np\n",
        "import scipy.stats as stats\n",
        "import pandas as pd\n",
        "import itertools as it\n",
        "import matplotlib.pyplot as plt\n",
        "from IPython.display import display, HTML"
      ],
      "execution_count": null,
      "outputs": []
    },
    {
      "cell_type": "markdown",
      "source": [
        "### **1. 8.18:**\n",
        "List all samples of size $n = 2$ that are possible (with replacement) from the population in Problem 8.17. Using Python or R, plot the sampling distribution of the mean to show $μ_{\\bar{x}}$, and show that $σ^{2}_{\\bar{x}} = σ^{2} / 2.$\n",
        "\n",
        ">*Problem 8.17*: Midwestern University has 1/3 of its students taking 9 credit hours, 1/3 taking 12 credit hours, and 1/3 taking 15 credit hours. If $X$ represents the credit hours a student is taking, the distribution of $%$ is $p(x) = 1/3$ for $x$ = 9, 12, and 15. Find the mean and variance of $X$. What type of distribution does $X$ have?\n",
        ">> *   $μ = ∑xp(x) = 9(1/3) + 12(1/3) + 15(1/3) = 12$\n",
        ">> * $σ^{2} = ∑xp(x) - μ^{2} = 81(1/3) + 144(1/3) + 225(1/3) - 144 = 150 -144 = 6$\n",
        ">> * Uniform Distribution\n",
        "\n"
      ],
      "metadata": {
        "id": "utHWoQQlZI7m"
      }
    },
    {
      "cell_type": "code",
      "source": [
        "# define the variables\n",
        "students_mu = [9, 12, 15]\n",
        "xbar_values = [9, 10.5, 12, 13.5, 15, np.nan, np.nan, np.nan, np.nan]\n",
        "pxbar_values = [0.111111, 0.222222, 0.333333, 0.222222, 0.111111, np.nan, np.nan, np.nan, np.nan]\n",
        "\n",
        "# generate all possible samples of size 2 with replacement\n",
        "samples_mu = list(it.product(students_mu, repeat = 2))\n",
        "\n",
        "# calculate the sample means\n",
        "mu_sample_means = [np.mean(sample) for sample in samples_mu]\n",
        "\n",
        "# calculate the rest\n",
        "xbar_values_cleaned = [float(x) if not np.isnan(x) else np.nan for x in xbar_values]\n",
        "x_px_bar = np.array(xbar_values_cleaned) *pxbar_values\n",
        "x2_px_bar = (np.array(xbar_values_cleaned)**2) * pxbar_values\n",
        "\n",
        "# calculate the population mean and variance\n",
        "popu_mean = np.mean(students_mu)\n",
        "popu_var = np.var(students_mu)\n",
        "\n",
        "# calculate the sampling distribution mean and variance\n",
        "samp_dist_mean = np.mean(mu_sample_means)\n",
        "samp_dist_var = popu_var / 2\n",
        "\n",
        "# plot\n",
        "plt.hist(mu_sample_means, bins = 10, edgecolor = 'black')\n",
        "plt.axvline(x = samp_dist_mean, color = 'blue', linestyle = '--', label = 'Sampling Distribution Mean')\n",
        "plt.xlabel('Sample Mean')\n",
        "plt.ylabel('Frequency')\n",
        "plt.title('Sampling Distribution of the Mean')\n",
        "plt.legend()\n",
        "plt.show()\n",
        "\n",
        "display(HTML('<br>'))\n",
        "\n",
        "# create a dataframe to display the results\n",
        "results_df = pd.DataFrame({\n",
        "    'Sample A': samples_mu,\n",
        "    'Mean': mu_sample_means,\n",
        "    'x_bar': xbar_values_cleaned,\n",
        "    'p(xbar)': pxbar_values,\n",
        "    'xbar * p(xbar)': x_px_bar,\n",
        "    'xbar^2 * p(xbar)': x2_px_bar\n",
        "})\n",
        "\n",
        "# create a dataframe to show distribution stuffs\n",
        "dist_df = pd.DataFrame({\n",
        "    'Population Mean': [popu_mean],\n",
        "    'Population Variance': [popu_var],\n",
        "    'Sampling Distribution Mean': [samp_dist_mean],\n",
        "    'Sampling Distribution Variance': [samp_dist_var]\n",
        "})\n",
        "\n",
        "# display the results\n",
        "display(results_df.style)\n",
        "\n",
        "display(HTML('<br>'))\n",
        "\n",
        "# display the results\n",
        "dist_df.style"
      ],
      "metadata": {
        "colab": {
          "base_uri": "https://localhost:8080/",
          "height": 884
        },
        "id": "HftTl07DjDEX",
        "outputId": "43be5895-f873-4796-c88d-bfed35c8bd4a"
      },
      "execution_count": null,
      "outputs": [
        {
          "output_type": "display_data",
          "data": {
            "text/plain": [
              "<Figure size 640x480 with 1 Axes>"
            ],
            "image/png": "[encoded data removed]"
          },
          "metadata": {}
        },
        {
          "output_type": "display_data",
          "data": {
            "text/plain": [
              "<IPython.core.display.HTML object>"
            ],
            "text/html": [
              "<br>"
            ]
          },
          "metadata": {}
        },
        {
          "output_type": "display_data",
          "data": {
            "text/plain": [
              "<pandas.io.formats.style.Styler at 0x7abbcf3c5e10>"
            ],
            "text/html": [
              "<style type=\"text/css\">\n",
              "</style>\n",
              "<table id=\"T_7ca3d\" class=\"dataframe\">\n",
              "  <thead>\n",
              "    <tr>\n",
              "      <th class=\"blank level0\" >&nbsp;</th>\n",
              "      <th id=\"T_7ca3d_level0_col0\" class=\"col_heading level0 col0\" >Sample A</th>\n",
              "      <th id=\"T_7ca3d_level0_col1\" class=\"col_heading level0 col1\" >Mean</th>\n",
              "      <th id=\"T_7ca3d_level0_col2\" class=\"col_heading level0 col2\" >x_bar</th>\n",
              "      <th id=\"T_7ca3d_level0_col3\" class=\"col_heading level0 col3\" >p(xbar)</th>\n",
              "      <th id=\"T_7ca3d_level0_col4\" class=\"col_heading level0 col4\" >xbar * p(xbar)</th>\n",
              "      <th id=\"T_7ca3d_level0_col5\" class=\"col_heading level0 col5\" >xbar^2 * p(xbar)</th>\n",
              "    </tr>\n",
              "  </thead>\n",
              "  <tbody>\n",
              "    <tr>\n",
              "      <th id=\"T_7ca3d_level0_row0\" class=\"row_heading level0 row0\" >0</th>\n",
              "      <td id=\"T_7ca3d_row0_col0\" class=\"data row0 col0\" >(9, 9)</td>\n",
              "      <td id=\"T_7ca3d_row0_col1\" class=\"data row0 col1\" >9.000000</td>\n",
              "      <td id=\"T_7ca3d_row0_col2\" class=\"data row0 col2\" >9.000000</td>\n",
              "      <td id=\"T_7ca3d_row0_col3\" class=\"data row0 col3\" >0.111111</td>\n",
              "      <td id=\"T_7ca3d_row0_col4\" class=\"data row0 col4\" >0.999999</td>\n",
              "      <td id=\"T_7ca3d_row0_col5\" class=\"data row0 col5\" >8.999991</td>\n",
              "    </tr>\n",
              "    <tr>\n",
              "      <th id=\"T_7ca3d_level0_row1\" class=\"row_heading level0 row1\" >1</th>\n",
              "      <td id=\"T_7ca3d_row1_col0\" class=\"data row1 col0\" >(9, 12)</td>\n",
              "      <td id=\"T_7ca3d_row1_col1\" class=\"data row1 col1\" >10.500000</td>\n",
              "      <td id=\"T_7ca3d_row1_col2\" class=\"data row1 col2\" >10.500000</td>\n",
              "      <td id=\"T_7ca3d_row1_col3\" class=\"data row1 col3\" >0.222222</td>\n",
              "      <td id=\"T_7ca3d_row1_col4\" class=\"data row1 col4\" >2.333331</td>\n",
              "      <td id=\"T_7ca3d_row1_col5\" class=\"data row1 col5\" >24.499976</td>\n",
              "    </tr>\n",
              "    <tr>\n",
              "      <th id=\"T_7ca3d_level0_row2\" class=\"row_heading level0 row2\" >2</th>\n",
              "      <td id=\"T_7ca3d_row2_col0\" class=\"data row2 col0\" >(9, 15)</td>\n",
              "      <td id=\"T_7ca3d_row2_col1\" class=\"data row2 col1\" >12.000000</td>\n",
              "      <td id=\"T_7ca3d_row2_col2\" class=\"data row2 col2\" >12.000000</td>\n",
              "      <td id=\"T_7ca3d_row2_col3\" class=\"data row2 col3\" >0.333333</td>\n",
              "      <td id=\"T_7ca3d_row2_col4\" class=\"data row2 col4\" >3.999996</td>\n",
              "      <td id=\"T_7ca3d_row2_col5\" class=\"data row2 col5\" >47.999952</td>\n",
              "    </tr>\n",
              "    <tr>\n",
              "      <th id=\"T_7ca3d_level0_row3\" class=\"row_heading level0 row3\" >3</th>\n",
              "      <td id=\"T_7ca3d_row3_col0\" class=\"data row3 col0\" >(12, 9)</td>\n",
              "      <td id=\"T_7ca3d_row3_col1\" class=\"data row3 col1\" >10.500000</td>\n",
              "      <td id=\"T_7ca3d_row3_col2\" class=\"data row3 col2\" >13.500000</td>\n",
              "      <td id=\"T_7ca3d_row3_col3\" class=\"data row3 col3\" >0.222222</td>\n",
              "      <td id=\"T_7ca3d_row3_col4\" class=\"data row3 col4\" >2.999997</td>\n",
              "      <td id=\"T_7ca3d_row3_col5\" class=\"data row3 col5\" >40.499960</td>\n",
              "    </tr>\n",
              "    <tr>\n",
              "      <th id=\"T_7ca3d_level0_row4\" class=\"row_heading level0 row4\" >4</th>\n",
              "      <td id=\"T_7ca3d_row4_col0\" class=\"data row4 col0\" >(12, 12)</td>\n",
              "      <td id=\"T_7ca3d_row4_col1\" class=\"data row4 col1\" >12.000000</td>\n",
              "      <td id=\"T_7ca3d_row4_col2\" class=\"data row4 col2\" >15.000000</td>\n",
              "      <td id=\"T_7ca3d_row4_col3\" class=\"data row4 col3\" >0.111111</td>\n",
              "      <td id=\"T_7ca3d_row4_col4\" class=\"data row4 col4\" >1.666665</td>\n",
              "      <td id=\"T_7ca3d_row4_col5\" class=\"data row4 col5\" >24.999975</td>\n",
              "    </tr>\n",
              "    <tr>\n",
              "      <th id=\"T_7ca3d_level0_row5\" class=\"row_heading level0 row5\" >5</th>\n",
              "      <td id=\"T_7ca3d_row5_col0\" class=\"data row5 col0\" >(12, 15)</td>\n",
              "      <td id=\"T_7ca3d_row5_col1\" class=\"data row5 col1\" >13.500000</td>\n",
              "      <td id=\"T_7ca3d_row5_col2\" class=\"data row5 col2\" >nan</td>\n",
              "      <td id=\"T_7ca3d_row5_col3\" class=\"data row5 col3\" >nan</td>\n",
              "      <td id=\"T_7ca3d_row5_col4\" class=\"data row5 col4\" >nan</td>\n",
              "      <td id=\"T_7ca3d_row5_col5\" class=\"data row5 col5\" >nan</td>\n",
              "    </tr>\n",
              "    <tr>\n",
              "      <th id=\"T_7ca3d_level0_row6\" class=\"row_heading level0 row6\" >6</th>\n",
              "      <td id=\"T_7ca3d_row6_col0\" class=\"data row6 col0\" >(15, 9)</td>\n",
              "      <td id=\"T_7ca3d_row6_col1\" class=\"data row6 col1\" >12.000000</td>\n",
              "      <td id=\"T_7ca3d_row6_col2\" class=\"data row6 col2\" >nan</td>\n",
              "      <td id=\"T_7ca3d_row6_col3\" class=\"data row6 col3\" >nan</td>\n",
              "      <td id=\"T_7ca3d_row6_col4\" class=\"data row6 col4\" >nan</td>\n",
              "      <td id=\"T_7ca3d_row6_col5\" class=\"data row6 col5\" >nan</td>\n",
              "    </tr>\n",
              "    <tr>\n",
              "      <th id=\"T_7ca3d_level0_row7\" class=\"row_heading level0 row7\" >7</th>\n",
              "      <td id=\"T_7ca3d_row7_col0\" class=\"data row7 col0\" >(15, 12)</td>\n",
              "      <td id=\"T_7ca3d_row7_col1\" class=\"data row7 col1\" >13.500000</td>\n",
              "      <td id=\"T_7ca3d_row7_col2\" class=\"data row7 col2\" >nan</td>\n",
              "      <td id=\"T_7ca3d_row7_col3\" class=\"data row7 col3\" >nan</td>\n",
              "      <td id=\"T_7ca3d_row7_col4\" class=\"data row7 col4\" >nan</td>\n",
              "      <td id=\"T_7ca3d_row7_col5\" class=\"data row7 col5\" >nan</td>\n",
              "    </tr>\n",
              "    <tr>\n",
              "      <th id=\"T_7ca3d_level0_row8\" class=\"row_heading level0 row8\" >8</th>\n",
              "      <td id=\"T_7ca3d_row8_col0\" class=\"data row8 col0\" >(15, 15)</td>\n",
              "      <td id=\"T_7ca3d_row8_col1\" class=\"data row8 col1\" >15.000000</td>\n",
              "      <td id=\"T_7ca3d_row8_col2\" class=\"data row8 col2\" >nan</td>\n",
              "      <td id=\"T_7ca3d_row8_col3\" class=\"data row8 col3\" >nan</td>\n",
              "      <td id=\"T_7ca3d_row8_col4\" class=\"data row8 col4\" >nan</td>\n",
              "      <td id=\"T_7ca3d_row8_col5\" class=\"data row8 col5\" >nan</td>\n",
              "    </tr>\n",
              "  </tbody>\n",
              "</table>\n"
            ]
          },
          "metadata": {}
        },
        {
          "output_type": "display_data",
          "data": {
            "text/plain": [
              "<IPython.core.display.HTML object>"
            ],
            "text/html": [
              "<br>"
            ]
          },
          "metadata": {}
        },
        {
          "output_type": "execute_result",
          "data": {
            "text/plain": [
              "<pandas.io.formats.style.Styler at 0x7abbcf3c5e10>"
            ],
            "text/html": [
              "<style type=\"text/css\">\n",
              "</style>\n",
              "<table id=\"T_99383\" class=\"dataframe\">\n",
              "  <thead>\n",
              "    <tr>\n",
              "      <th class=\"blank level0\" >&nbsp;</th>\n",
              "      <th id=\"T_99383_level0_col0\" class=\"col_heading level0 col0\" >Population Mean</th>\n",
              "      <th id=\"T_99383_level0_col1\" class=\"col_heading level0 col1\" >Population Variance</th>\n",
              "      <th id=\"T_99383_level0_col2\" class=\"col_heading level0 col2\" >Sampling Distribution Mean</th>\n",
              "      <th id=\"T_99383_level0_col3\" class=\"col_heading level0 col3\" >Sampling Distribution Variance</th>\n",
              "    </tr>\n",
              "  </thead>\n",
              "  <tbody>\n",
              "    <tr>\n",
              "      <th id=\"T_99383_level0_row0\" class=\"row_heading level0 row0\" >0</th>\n",
              "      <td id=\"T_99383_row0_col0\" class=\"data row0 col0\" >12.000000</td>\n",
              "      <td id=\"T_99383_row0_col1\" class=\"data row0 col1\" >6.000000</td>\n",
              "      <td id=\"T_99383_row0_col2\" class=\"data row0 col2\" >12.000000</td>\n",
              "      <td id=\"T_99383_row0_col3\" class=\"data row0 col3\" >3.000000</td>\n",
              "    </tr>\n",
              "  </tbody>\n",
              "</table>\n"
            ]
          },
          "metadata": {},
          "execution_count": 82
        }
      ]
    },
    {
      "cell_type": "markdown",
      "source": [
        "### **2. 8.21:**\n",
        "A population of the four numbers 3, 7, 11, and 15. Consider all possible samples of size 2 that can be drawn with replacement from this population. Find *(a)* the population mean, *(b)* the population standard deviation, *(c)* the mean of sampling distribution of means, and *(d)* the standard deviation of the sampling distribution of means. Verify parts *(c)* and *(d)* by using suitable formula."
      ],
      "metadata": {
        "id": "HMMzL9RVcrG8"
      }
    },
    {
      "cell_type": "code",
      "source": [
        "# define the variables\n",
        "population = [3, 7, 11, 15]\n",
        "\n",
        "# generate all possible samples with replacement\n",
        "samples = list(it.product(population, repeat = 2))\n",
        "\n",
        "# calculate the population means and standard deviation\n",
        "popu_means = np.mean(population).round(2)\n",
        "popu_std = np.std(population).round(2)\n",
        "\n",
        "# calculate the mean of the sampling distribution of means\n",
        "sample_means = np.mean(samples, axis = 1).round(2)\n",
        "mean_sampling_dist = np.mean(sample_means).round(2)\n",
        "sample_std = np.std(sample_means).round(2)\n",
        "\n",
        "# create a dataframe to display the results\n",
        "summary_df = pd.DataFrame({\n",
        "    'Population Mean': [popu_mean],\n",
        "    'Population Std. Dev.': [popu_std],\n",
        "    'Sampling Dist. Mean': [mean_sampling_dist],\n",
        "    'Sampling Dist. Std. Dev.': [sample_std]\n",
        "}, index=['Results'])\n",
        "\n",
        "# display the results\n",
        "display(summary_df.style)"
      ],
      "metadata": {
        "colab": {
          "base_uri": "https://localhost:8080/",
          "height": 98
        },
        "id": "UwyEcw6yjnfI",
        "outputId": "362f2f75-0bff-45d6-f9e4-e790c21d2e50"
      },
      "execution_count": null,
      "outputs": [
        {
          "output_type": "display_data",
          "data": {
            "text/plain": [
              "<pandas.io.formats.style.Styler at 0x7abbd6ca4190>"
            ],
            "text/html": [
              "<style type=\"text/css\">\n",
              "</style>\n",
              "<table id=\"T_fb835\" class=\"dataframe\">\n",
              "  <thead>\n",
              "    <tr>\n",
              "      <th class=\"blank level0\" >&nbsp;</th>\n",
              "      <th id=\"T_fb835_level0_col0\" class=\"col_heading level0 col0\" >Population Mean</th>\n",
              "      <th id=\"T_fb835_level0_col1\" class=\"col_heading level0 col1\" >Population Std. Dev.</th>\n",
              "      <th id=\"T_fb835_level0_col2\" class=\"col_heading level0 col2\" >Sampling Dist. Mean</th>\n",
              "      <th id=\"T_fb835_level0_col3\" class=\"col_heading level0 col3\" >Sampling Dist. Std. Dev.</th>\n",
              "    </tr>\n",
              "  </thead>\n",
              "  <tbody>\n",
              "    <tr>\n",
              "      <th id=\"T_fb835_level0_row0\" class=\"row_heading level0 row0\" >Results</th>\n",
              "      <td id=\"T_fb835_row0_col0\" class=\"data row0 col0\" >9.000000</td>\n",
              "      <td id=\"T_fb835_row0_col1\" class=\"data row0 col1\" >4.470000</td>\n",
              "      <td id=\"T_fb835_row0_col2\" class=\"data row0 col2\" >9.000000</td>\n",
              "      <td id=\"T_fb835_row0_col3\" class=\"data row0 col3\" >3.160000</td>\n",
              "    </tr>\n",
              "  </tbody>\n",
              "</table>\n"
            ]
          },
          "metadata": {}
        }
      ]
    },
    {
      "cell_type": "markdown",
      "source": [
        "### **2. 8.34:**\n",
        "Find the probability that of the next 200 children born, *(a)* less than 40% will be boys, *(b)* between 43% and 57% will be girls, and *(c)* more than 54% will be boys. Assume equal probabilities for the births of boys and girls."
      ],
      "metadata": {
        "id": "Gh_RyXfRdlKV"
      }
    },
    {
      "cell_type": "code",
      "source": [
        "# define the parameters\n",
        "n = 200\n",
        "p = 0.5\n",
        "\n",
        "# calculate the probabilities\n",
        "prob_less_than_40 = stats.binom.cdf(0.40 * n, n, p)\n",
        "\n",
        "prob_less_than_43 = stats.binom.cdf(0.43 * n, n, p)\n",
        "prob_less_than_57 = stats.binom.cdf(0.57 * n, n, p)\n",
        "prob_between_43_57 = prob_less_than_57 - prob_less_than_43\n",
        "\n",
        "prob_more_than_54 = 1 - stats.binom.cdf(0.54 * n, n, p)\n",
        "\n",
        "# print the results\n",
        "print(\"Probability that less than 40% will be boys:\", round(prob_less_than_40, 4))\n",
        "print(\"Probability that between 43% and 57% will be girls:\", round(prob_between_43_57, 4))\n",
        "print(\"Probability that more than 54% will be boys:\", round(prob_more_than_54, 4))"
      ],
      "metadata": {
        "colab": {
          "base_uri": "https://localhost:8080/"
        },
        "id": "1J2tzBP38GoX",
        "outputId": "ab390b3d-fac0-42cc-cad4-adbdabaf5da4"
      },
      "execution_count": null,
      "outputs": [
        {
          "output_type": "stream",
          "name": "stdout",
          "text": [
            "Probability that less than 40% will be boys: 0.0028\n",
            "Probability that between 43% and 57% will be girls: 0.944\n",
            "Probability that more than 54% will be boys: 0.1146\n"
          ]
        }
      ]
    },
    {
      "cell_type": "markdown",
      "source": [
        "### **3. 8.49:**\n",
        "The credit hour distribution at Metropolitan Technological College is as follows:\n",
        "\n",
        "x | 6 | 9 | 12 | 15 | 18\n",
        "--|---|---|----|----|---\n",
        "p(x) |0.1|0.2|0.4|0.2|0.1"
      ],
      "metadata": {
        "id": "_zPLJDqKeEW9"
      }
    },
    {
      "cell_type": "markdown",
      "source": [
        "Find $μ$ and $σ^{2}$. Give the 25 (with replacement) possible sample of size 2, their means, and their probabilities."
      ],
      "metadata": {
        "id": "QOAu7V8Phf_8"
      }
    },
    {
      "cell_type": "code",
      "source": [
        "# define the variables\n",
        "x = [6, 9, 12, 15, 18]\n",
        "p_x = [0.1, 0.2, 0.4, 0.2, 0.1]\n",
        "\n",
        "# calculate mean and variance\n",
        "mean_data = np.dot(x, p_x).round(0)\n",
        "var_data = np.dot(abs(np.array(x) - mean_data)**2, p_x).round(1)\n",
        "\n",
        "# print the result_1\n",
        "print(\"Mean (μ):\", mean_data, \"and Variance (σ^2):\", var_data)\n",
        "\n",
        "display(HTML('<br>'))\n",
        "\n",
        "# generate all possible samples of size 2 with replacement\n",
        "sampler = list(it.product(x, repeat = 2))\n",
        "\n",
        "# calculate the means of the sample\n",
        "sampler_means = [np.mean(sample) for sample in sampler]\n",
        "\n",
        "# calculate the probabilities of the samples\n",
        "sampler_probabilities = [p_x[x.index(sample[0])] * p_x[x.index(sample[1])] for sample in sampler]\n",
        "\n",
        "# create a dataframe to display the results_2\n",
        "dist_df = pd.DataFrame({\n",
        "    'Sample A': sampler,\n",
        "    'Mean': sampler_means,\n",
        "    'Probability': sampler_probabilities\n",
        "})\n",
        "\n",
        "# display the dataframe\n",
        "display(dist_df.style)"
      ],
      "metadata": {
        "colab": {
          "base_uri": "https://localhost:8080/",
          "height": 868
        },
        "id": "afCRVdh9_twD",
        "outputId": "dc051287-cdaf-4aa6-b6ed-a9c2ec32d140"
      },
      "execution_count": null,
      "outputs": [
        {
          "output_type": "stream",
          "name": "stdout",
          "text": [
            "Mean (μ): 12.0 and Variance (σ^2): 10.8\n"
          ]
        },
        {
          "output_type": "display_data",
          "data": {
            "text/plain": [
              "<IPython.core.display.HTML object>"
            ],
            "text/html": [
              "<br>"
            ]
          },
          "metadata": {}
        },
        {
          "output_type": "display_data",
          "data": {
            "text/plain": [
              "<pandas.io.formats.style.Styler at 0x7abbd6ad9f30>"
            ],
            "text/html": [
              "<style type=\"text/css\">\n",
              "</style>\n",
              "<table id=\"T_b97d7\" class=\"dataframe\">\n",
              "  <thead>\n",
              "    <tr>\n",
              "      <th class=\"blank level0\" >&nbsp;</th>\n",
              "      <th id=\"T_b97d7_level0_col0\" class=\"col_heading level0 col0\" >Sample A</th>\n",
              "      <th id=\"T_b97d7_level0_col1\" class=\"col_heading level0 col1\" >Mean</th>\n",
              "      <th id=\"T_b97d7_level0_col2\" class=\"col_heading level0 col2\" >Probability</th>\n",
              "    </tr>\n",
              "  </thead>\n",
              "  <tbody>\n",
              "    <tr>\n",
              "      <th id=\"T_b97d7_level0_row0\" class=\"row_heading level0 row0\" >0</th>\n",
              "      <td id=\"T_b97d7_row0_col0\" class=\"data row0 col0\" >(6, 6)</td>\n",
              "      <td id=\"T_b97d7_row0_col1\" class=\"data row0 col1\" >6.000000</td>\n",
              "      <td id=\"T_b97d7_row0_col2\" class=\"data row0 col2\" >0.010000</td>\n",
              "    </tr>\n",
              "    <tr>\n",
              "      <th id=\"T_b97d7_level0_row1\" class=\"row_heading level0 row1\" >1</th>\n",
              "      <td id=\"T_b97d7_row1_col0\" class=\"data row1 col0\" >(6, 9)</td>\n",
              "      <td id=\"T_b97d7_row1_col1\" class=\"data row1 col1\" >7.500000</td>\n",
              "      <td id=\"T_b97d7_row1_col2\" class=\"data row1 col2\" >0.020000</td>\n",
              "    </tr>\n",
              "    <tr>\n",
              "      <th id=\"T_b97d7_level0_row2\" class=\"row_heading level0 row2\" >2</th>\n",
              "      <td id=\"T_b97d7_row2_col0\" class=\"data row2 col0\" >(6, 12)</td>\n",
              "      <td id=\"T_b97d7_row2_col1\" class=\"data row2 col1\" >9.000000</td>\n",
              "      <td id=\"T_b97d7_row2_col2\" class=\"data row2 col2\" >0.040000</td>\n",
              "    </tr>\n",
              "    <tr>\n",
              "      <th id=\"T_b97d7_level0_row3\" class=\"row_heading level0 row3\" >3</th>\n",
              "      <td id=\"T_b97d7_row3_col0\" class=\"data row3 col0\" >(6, 15)</td>\n",
              "      <td id=\"T_b97d7_row3_col1\" class=\"data row3 col1\" >10.500000</td>\n",
              "      <td id=\"T_b97d7_row3_col2\" class=\"data row3 col2\" >0.020000</td>\n",
              "    </tr>\n",
              "    <tr>\n",
              "      <th id=\"T_b97d7_level0_row4\" class=\"row_heading level0 row4\" >4</th>\n",
              "      <td id=\"T_b97d7_row4_col0\" class=\"data row4 col0\" >(6, 18)</td>\n",
              "      <td id=\"T_b97d7_row4_col1\" class=\"data row4 col1\" >12.000000</td>\n",
              "      <td id=\"T_b97d7_row4_col2\" class=\"data row4 col2\" >0.010000</td>\n",
              "    </tr>\n",
              "    <tr>\n",
              "      <th id=\"T_b97d7_level0_row5\" class=\"row_heading level0 row5\" >5</th>\n",
              "      <td id=\"T_b97d7_row5_col0\" class=\"data row5 col0\" >(9, 6)</td>\n",
              "      <td id=\"T_b97d7_row5_col1\" class=\"data row5 col1\" >7.500000</td>\n",
              "      <td id=\"T_b97d7_row5_col2\" class=\"data row5 col2\" >0.020000</td>\n",
              "    </tr>\n",
              "    <tr>\n",
              "      <th id=\"T_b97d7_level0_row6\" class=\"row_heading level0 row6\" >6</th>\n",
              "      <td id=\"T_b97d7_row6_col0\" class=\"data row6 col0\" >(9, 9)</td>\n",
              "      <td id=\"T_b97d7_row6_col1\" class=\"data row6 col1\" >9.000000</td>\n",
              "      <td id=\"T_b97d7_row6_col2\" class=\"data row6 col2\" >0.040000</td>\n",
              "    </tr>\n",
              "    <tr>\n",
              "      <th id=\"T_b97d7_level0_row7\" class=\"row_heading level0 row7\" >7</th>\n",
              "      <td id=\"T_b97d7_row7_col0\" class=\"data row7 col0\" >(9, 12)</td>\n",
              "      <td id=\"T_b97d7_row7_col1\" class=\"data row7 col1\" >10.500000</td>\n",
              "      <td id=\"T_b97d7_row7_col2\" class=\"data row7 col2\" >0.080000</td>\n",
              "    </tr>\n",
              "    <tr>\n",
              "      <th id=\"T_b97d7_level0_row8\" class=\"row_heading level0 row8\" >8</th>\n",
              "      <td id=\"T_b97d7_row8_col0\" class=\"data row8 col0\" >(9, 15)</td>\n",
              "      <td id=\"T_b97d7_row8_col1\" class=\"data row8 col1\" >12.000000</td>\n",
              "      <td id=\"T_b97d7_row8_col2\" class=\"data row8 col2\" >0.040000</td>\n",
              "    </tr>\n",
              "    <tr>\n",
              "      <th id=\"T_b97d7_level0_row9\" class=\"row_heading level0 row9\" >9</th>\n",
              "      <td id=\"T_b97d7_row9_col0\" class=\"data row9 col0\" >(9, 18)</td>\n",
              "      <td id=\"T_b97d7_row9_col1\" class=\"data row9 col1\" >13.500000</td>\n",
              "      <td id=\"T_b97d7_row9_col2\" class=\"data row9 col2\" >0.020000</td>\n",
              "    </tr>\n",
              "    <tr>\n",
              "      <th id=\"T_b97d7_level0_row10\" class=\"row_heading level0 row10\" >10</th>\n",
              "      <td id=\"T_b97d7_row10_col0\" class=\"data row10 col0\" >(12, 6)</td>\n",
              "      <td id=\"T_b97d7_row10_col1\" class=\"data row10 col1\" >9.000000</td>\n",
              "      <td id=\"T_b97d7_row10_col2\" class=\"data row10 col2\" >0.040000</td>\n",
              "    </tr>\n",
              "    <tr>\n",
              "      <th id=\"T_b97d7_level0_row11\" class=\"row_heading level0 row11\" >11</th>\n",
              "      <td id=\"T_b97d7_row11_col0\" class=\"data row11 col0\" >(12, 9)</td>\n",
              "      <td id=\"T_b97d7_row11_col1\" class=\"data row11 col1\" >10.500000</td>\n",
              "      <td id=\"T_b97d7_row11_col2\" class=\"data row11 col2\" >0.080000</td>\n",
              "    </tr>\n",
              "    <tr>\n",
              "      <th id=\"T_b97d7_level0_row12\" class=\"row_heading level0 row12\" >12</th>\n",
              "      <td id=\"T_b97d7_row12_col0\" class=\"data row12 col0\" >(12, 12)</td>\n",
              "      <td id=\"T_b97d7_row12_col1\" class=\"data row12 col1\" >12.000000</td>\n",
              "      <td id=\"T_b97d7_row12_col2\" class=\"data row12 col2\" >0.160000</td>\n",
              "    </tr>\n",
              "    <tr>\n",
              "      <th id=\"T_b97d7_level0_row13\" class=\"row_heading level0 row13\" >13</th>\n",
              "      <td id=\"T_b97d7_row13_col0\" class=\"data row13 col0\" >(12, 15)</td>\n",
              "      <td id=\"T_b97d7_row13_col1\" class=\"data row13 col1\" >13.500000</td>\n",
              "      <td id=\"T_b97d7_row13_col2\" class=\"data row13 col2\" >0.080000</td>\n",
              "    </tr>\n",
              "    <tr>\n",
              "      <th id=\"T_b97d7_level0_row14\" class=\"row_heading level0 row14\" >14</th>\n",
              "      <td id=\"T_b97d7_row14_col0\" class=\"data row14 col0\" >(12, 18)</td>\n",
              "      <td id=\"T_b97d7_row14_col1\" class=\"data row14 col1\" >15.000000</td>\n",
              "      <td id=\"T_b97d7_row14_col2\" class=\"data row14 col2\" >0.040000</td>\n",
              "    </tr>\n",
              "    <tr>\n",
              "      <th id=\"T_b97d7_level0_row15\" class=\"row_heading level0 row15\" >15</th>\n",
              "      <td id=\"T_b97d7_row15_col0\" class=\"data row15 col0\" >(15, 6)</td>\n",
              "      <td id=\"T_b97d7_row15_col1\" class=\"data row15 col1\" >10.500000</td>\n",
              "      <td id=\"T_b97d7_row15_col2\" class=\"data row15 col2\" >0.020000</td>\n",
              "    </tr>\n",
              "    <tr>\n",
              "      <th id=\"T_b97d7_level0_row16\" class=\"row_heading level0 row16\" >16</th>\n",
              "      <td id=\"T_b97d7_row16_col0\" class=\"data row16 col0\" >(15, 9)</td>\n",
              "      <td id=\"T_b97d7_row16_col1\" class=\"data row16 col1\" >12.000000</td>\n",
              "      <td id=\"T_b97d7_row16_col2\" class=\"data row16 col2\" >0.040000</td>\n",
              "    </tr>\n",
              "    <tr>\n",
              "      <th id=\"T_b97d7_level0_row17\" class=\"row_heading level0 row17\" >17</th>\n",
              "      <td id=\"T_b97d7_row17_col0\" class=\"data row17 col0\" >(15, 12)</td>\n",
              "      <td id=\"T_b97d7_row17_col1\" class=\"data row17 col1\" >13.500000</td>\n",
              "      <td id=\"T_b97d7_row17_col2\" class=\"data row17 col2\" >0.080000</td>\n",
              "    </tr>\n",
              "    <tr>\n",
              "      <th id=\"T_b97d7_level0_row18\" class=\"row_heading level0 row18\" >18</th>\n",
              "      <td id=\"T_b97d7_row18_col0\" class=\"data row18 col0\" >(15, 15)</td>\n",
              "      <td id=\"T_b97d7_row18_col1\" class=\"data row18 col1\" >15.000000</td>\n",
              "      <td id=\"T_b97d7_row18_col2\" class=\"data row18 col2\" >0.040000</td>\n",
              "    </tr>\n",
              "    <tr>\n",
              "      <th id=\"T_b97d7_level0_row19\" class=\"row_heading level0 row19\" >19</th>\n",
              "      <td id=\"T_b97d7_row19_col0\" class=\"data row19 col0\" >(15, 18)</td>\n",
              "      <td id=\"T_b97d7_row19_col1\" class=\"data row19 col1\" >16.500000</td>\n",
              "      <td id=\"T_b97d7_row19_col2\" class=\"data row19 col2\" >0.020000</td>\n",
              "    </tr>\n",
              "    <tr>\n",
              "      <th id=\"T_b97d7_level0_row20\" class=\"row_heading level0 row20\" >20</th>\n",
              "      <td id=\"T_b97d7_row20_col0\" class=\"data row20 col0\" >(18, 6)</td>\n",
              "      <td id=\"T_b97d7_row20_col1\" class=\"data row20 col1\" >12.000000</td>\n",
              "      <td id=\"T_b97d7_row20_col2\" class=\"data row20 col2\" >0.010000</td>\n",
              "    </tr>\n",
              "    <tr>\n",
              "      <th id=\"T_b97d7_level0_row21\" class=\"row_heading level0 row21\" >21</th>\n",
              "      <td id=\"T_b97d7_row21_col0\" class=\"data row21 col0\" >(18, 9)</td>\n",
              "      <td id=\"T_b97d7_row21_col1\" class=\"data row21 col1\" >13.500000</td>\n",
              "      <td id=\"T_b97d7_row21_col2\" class=\"data row21 col2\" >0.020000</td>\n",
              "    </tr>\n",
              "    <tr>\n",
              "      <th id=\"T_b97d7_level0_row22\" class=\"row_heading level0 row22\" >22</th>\n",
              "      <td id=\"T_b97d7_row22_col0\" class=\"data row22 col0\" >(18, 12)</td>\n",
              "      <td id=\"T_b97d7_row22_col1\" class=\"data row22 col1\" >15.000000</td>\n",
              "      <td id=\"T_b97d7_row22_col2\" class=\"data row22 col2\" >0.040000</td>\n",
              "    </tr>\n",
              "    <tr>\n",
              "      <th id=\"T_b97d7_level0_row23\" class=\"row_heading level0 row23\" >23</th>\n",
              "      <td id=\"T_b97d7_row23_col0\" class=\"data row23 col0\" >(18, 15)</td>\n",
              "      <td id=\"T_b97d7_row23_col1\" class=\"data row23 col1\" >16.500000</td>\n",
              "      <td id=\"T_b97d7_row23_col2\" class=\"data row23 col2\" >0.020000</td>\n",
              "    </tr>\n",
              "    <tr>\n",
              "      <th id=\"T_b97d7_level0_row24\" class=\"row_heading level0 row24\" >24</th>\n",
              "      <td id=\"T_b97d7_row24_col0\" class=\"data row24 col0\" >(18, 18)</td>\n",
              "      <td id=\"T_b97d7_row24_col1\" class=\"data row24 col1\" >18.000000</td>\n",
              "      <td id=\"T_b97d7_row24_col2\" class=\"data row24 col2\" >0.010000</td>\n",
              "    </tr>\n",
              "  </tbody>\n",
              "</table>\n"
            ]
          },
          "metadata": {}
        }
      ]
    }
  ]
}